{
  "nbformat": 4,
  "nbformat_minor": 0,
  "metadata": {
    "colab": {
      "provenance": [],
      "authorship_tag": "ABX9TyOVNJ+UP/NgvbUns3SquXzA",
      "include_colab_link": true
    },
    "kernelspec": {
      "name": "python3",
      "display_name": "Python 3"
    },
    "language_info": {
      "name": "python"
    }
  },
  "cells": [
    {
      "cell_type": "markdown",
      "metadata": {
        "id": "view-in-github",
        "colab_type": "text"
      },
      "source": [
        "<a href=\"https://colab.research.google.com/github/ekser52/University/blob/main/%D0%94%D0%BE%D0%BF%D0%BE%D0%BB%D0%BD%D0%B8%D1%82%D0%B5%D0%BB%D1%8C%D0%BD%D0%BE%D0%B5_%D0%97%D0%B0%D0%B4%D0%B0%D0%BD%D0%B8%D0%B5_%E2%84%961.ipynb\" target=\"_parent\"><img src=\"https://colab.research.google.com/assets/colab-badge.svg\" alt=\"Open In Colab\"/></a>"
      ]
    },
    {
      "cell_type": "code",
      "source": [
        "import random\n",
        "rn = random.randrange(1, 100)\n",
        "rn = random.randint(1, 100)\n",
        "rn\n"
      ],
      "metadata": {
        "colab": {
          "base_uri": "https://localhost:8080/"
        },
        "id": "IPOIft7wHXL6",
        "outputId": "edf29e14-aebd-42f4-ac54-0e276896b56a"
      },
      "execution_count": null,
      "outputs": [
        {
          "output_type": "execute_result",
          "data": {
            "text/plain": [
              "21"
            ]
          },
          "metadata": {},
          "execution_count": 3
        }
      ]
    },
    {
      "cell_type": "code",
      "source": [
        "import random\n",
        "\n",
        "good_answer = random.randint(1, 100)\n",
        "print(f\"Компьютер загадал число {good_answer}\")\n",
        "count = 0\n",
        "while True:\n",
        "  count += 1\n",
        "  user_answer = input(\"ввидите число: \")\n",
        "\n",
        "  if (user_answer.lower() == \"выход\"): #or not (user_answer.isdigit()) :\n",
        "    break\n",
        "\n",
        "  if not(user_answer.isdigit()):\n",
        "    print(\"ошибка!\")\n",
        "    user_answer = input(\"ввидите число: \")\n",
        "    if (user_answer.lower() == \"выход\"):\n",
        "      break\n",
        "\n",
        "  user_answer = int(user_answer)\n",
        "\n",
        "\n",
        "  if user_answer == good_answer:\n",
        "\n",
        "    print(f\"Поздравляем, вы угадали число за {count} попыток\")\n",
        "  elif user_answer > good_answer:\n",
        "    print(\"Ваше число больше\")\n",
        "  else:\n",
        "    print(\"Ваше число меньше\")\n",
        "\n"
      ],
      "metadata": {
        "colab": {
          "base_uri": "https://localhost:8080/"
        },
        "id": "gnFeMrAcHoao",
        "outputId": "fc3ea14c-d1f7-4495-ff0d-4375ebe9e7fe"
      },
      "execution_count": 2,
      "outputs": [
        {
          "name": "stdout",
          "output_type": "stream",
          "text": [
            "Компьютер загадал число 80\n",
            "ввидите число: 60\n",
            "Ваше число меньше\n",
            "ввидите число: 78\n",
            "Ваше число меньше\n",
            "ввидите число: 87\n",
            "Ваше число больше\n",
            "ввидите число: 80\n",
            "Поздравляем, вы угадали число за 4 попыток\n",
            "ввидите число: ds[jl\n",
            "ошибка!\n",
            "ввидите число: выход\n"
          ]
        }
      ]
    },
    {
      "cell_type": "code",
      "source": [],
      "metadata": {
        "id": "lq5YxkiERliN"
      },
      "execution_count": null,
      "outputs": []
    }
  ]
}