{
  "nbformat": 4,
  "nbformat_minor": 0,
  "metadata": {
    "colab": {
      "provenance": [],
      "authorship_tag": "ABX9TyPjjlFHiEFZlusSpRV3H4EQ",
      "include_colab_link": true
    },
    "kernelspec": {
      "name": "python3",
      "display_name": "Python 3"
    },
    "language_info": {
      "name": "python"
    }
  },
  "cells": [
    {
      "cell_type": "markdown",
      "metadata": {
        "id": "view-in-github",
        "colab_type": "text"
      },
      "source": [
        "<a href=\"https://colab.research.google.com/github/ekser52/University/blob/main/practic_work/%D0%9F%D1%80%D0%B0%D0%BA%D1%82%D0%B8%D1%87%D0%B5%D1%81%D0%BA%D0%B0%D1%8F_%D1%80%D0%B0%D0%B1%D0%BE%D1%82%D0%B0_%E2%84%962.ipynb\" target=\"_parent\"><img src=\"https://colab.research.google.com/assets/colab-badge.svg\" alt=\"Open In Colab\"/></a>"
      ]
    },
    {
      "cell_type": "code",
      "source": [
        "import random\n",
        "\n",
        "def birthday(iterations:int, people:int=23) -> float:\n",
        "    counter = 0\n",
        "\n",
        "    for i in range(iterations):\n",
        "        day = []\n",
        "        while len(day) != people:\n",
        "            day.append(random.randint(1, 336))\n",
        "        bdset = set(day)\n",
        "        if len(bdset) != len(day):\n",
        "            counter += 1\n",
        "\n",
        "    return round((counter / iterations) * 100, 2)\n",
        "\n",
        "\n",
        "res1 = birthday(100, 23)\n",
        "res2 = birthday(100, 60)\n",
        "print(f\"Вероятность совпадения дней рождения в группе из 23 человек: {res1} %\")\n",
        "print(f\"Вероятность совпадения дней рождения в группе из 60 человек:  {res2} %\")"
      ],
      "metadata": {
        "id": "WjVu7Sf_l5FL",
        "colab": {
          "base_uri": "https://localhost:8080/"
        },
        "outputId": "c0dbc4d6-aa6e-41d6-8d10-30d144dedaaa"
      },
      "execution_count": null,
      "outputs": [
        {
          "output_type": "stream",
          "name": "stdout",
          "text": [
            "Вероятность совпадения дней рождения в группе из 23 человек: 56.0 %\n",
            "Вероятность совпадения дней рождения в группе из 60 человек:  100.0 %\n"
          ]
        }
      ]
    }
  ]
}