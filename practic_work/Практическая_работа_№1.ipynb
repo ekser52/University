{
  "cells": [
    {
      "cell_type": "markdown",
      "metadata": {
        "colab_type": "text",
        "id": "view-in-github"
      },
      "source": [
        "<a href=\"https://colab.research.google.com/github/ekser52/University/blob/main/task/%D0%9F%D1%80%D0%B0%D0%BA%D1%82%D0%B8%D1%87%D0%B5%D1%81%D0%BA%D0%B0%D1%8F_%D1%80%D0%B0%D0%B1%D0%BE%D1%82%D0%B0_%E2%84%961.ipynb\" target=\"_parent\"><img src=\"https://colab.research.google.com/assets/colab-badge.svg\" alt=\"Open In Colab\"/></a>"
      ]
    },
    {
      "cell_type": "code",
      "execution_count": 21,
      "metadata": {
        "colab": {
          "base_uri": "https://localhost:8080/"
        },
        "id": "fYPPp2nXW57c",
        "outputId": "5c5a4999-0c85-414b-c791-b9e3f138ab92"
      },
      "outputs": [
        {
          "name": "stdout",
          "output_type": "stream",
          "text": [
            "Вероятность победы при первой стратегии 32.30%\n",
            "Вероятность победы при второй стратегии 65.20%\n"
          ]
        }
      ],
      "source": [
        "import random\n",
        "\n",
        "# функция моделирует стратегию, когда участник остается верным своему выбору\n",
        "def strategy1():\n",
        "  win_door = random.randint(1, 3)\n",
        "\n",
        "  first_choise = random.randint(1, 3)\n",
        "\n",
        "  open_door = random.randint(1, 3)\n",
        "  while open_door == win_door or open_door == first_choise:\n",
        "    open_door = random.randint(1, 3)\n",
        "\n",
        "  return first_choise == win_door\n",
        "\n",
        "# функция моделирует стратегию, когда участник меняет свой выбор\n",
        "def strategy2():\n",
        "  win_door = random.randint(1, 3)\n",
        "\n",
        "  first_choise = random.randint(1, 3)\n",
        "\n",
        "  open_door = random.randint(1, 3)\n",
        "  while open_door == win_door or open_door == first_choise:\n",
        "    open_door = random.randint(1, 3)\n",
        "\n",
        "  return first_choise != win_door\n",
        "\n",
        "def monty_hall(iterations):\n",
        "  win1 = 0\n",
        "  win2 = 0\n",
        "  for i in range(iterations):\n",
        "    if strategy1() == True:\n",
        "      win1 += 1\n",
        "    if strategy2() == True:\n",
        "      win2 += 1\n",
        "\n",
        "  print(f'Вероятность победы при первой стратегии {win1 / iterations *100:.2f}%')\n",
        "  print(f'Вероятность победы при второй стратегии {win2 / iterations *100:.2f}%')\n",
        "\n",
        "monty_hall(1000)"
      ]
    },
    {
      "cell_type": "markdown",
      "metadata": {
        "id": "_MiJ2-ZXmgyd"
      },
      "source": [
        "По результатам моделирования двух стратегий было выявленно, что вторая стратегия является наиболее выигрышной, нежели первая. Значит шансы участника на победу при изменении выбора двери при второй попытке увеличаться."
      ]
    }
  ],
  "metadata": {
    "colab": {
      "authorship_tag": "ABX9TyMdjVVU3NHgAAGP/D86zrPj",
      "include_colab_link": true,
      "provenance": []
    },
    "kernelspec": {
      "display_name": "Python 3",
      "name": "python3"
    },
    "language_info": {
      "codemirror_mode": {
        "name": "ipython",
        "version": 3
      },
      "file_extension": ".py",
      "mimetype": "text/x-python",
      "name": "python",
      "nbconvert_exporter": "python",
      "pygments_lexer": "ipython3",
      "version": "3.12.5"
    }
  },
  "nbformat": 4,
  "nbformat_minor": 0
}
