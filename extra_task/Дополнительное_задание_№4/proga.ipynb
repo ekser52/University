{
  "nbformat": 4,
  "nbformat_minor": 0,
  "metadata": {
    "colab": {
      "provenance": [],
      "authorship_tag": "ABX9TyNhQwxon7cH7aIx9Gfdt6Y3",
      "include_colab_link": true
    },
    "kernelspec": {
      "name": "python3",
      "display_name": "Python 3"
    },
    "language_info": {
      "name": "python"
    }
  },
  "cells": [
    {
      "cell_type": "markdown",
      "metadata": {
        "id": "view-in-github",
        "colab_type": "text"
      },
      "source": [
        "<a href=\"https://colab.research.google.com/github/ekser52/University/blob/main/extra_task/%D0%94%D0%BE%D0%BF%D0%BE%D0%BB%D0%BD%D0%B8%D1%82%D0%B5%D0%BB%D1%8C%D0%BD%D0%BE%D0%B5_%D0%B7%D0%B0%D0%B4%D0%B0%D0%BD%D0%B8%D0%B5_%E2%84%964/proga.ipynb\" target=\"_parent\"><img src=\"https://colab.research.google.com/assets/colab-badge.svg\" alt=\"Open In Colab\"/></a>"
      ]
    },
    {
      "cell_type": "code",
      "source": [
        "import re\n",
        "import csv\n",
        "import ssl\n",
        "import urllib.request\n",
        "\n",
        "url = \"https://msk.spravker.ru/avtoservisy-avtotehcentry/\"\n",
        "response = urllib.request.urlopen(url)\n",
        "html_content = response.read().decode()\n",
        "\n",
        "with open('html.txt', mode='w', encoding='utf8') as file:\n",
        "    file.write(html_content)\n",
        "\n",
        "pattern = r'class=\"org-widget-header__title-link\">([^<]+)</a>.*?' \\\n",
        "          r'org-widget-header__meta--location\">([^<]+)</span>.*?' \\\n",
        "          r'<dt class=\"spec__index\"><span class=\"spec__index-inner\">Телефон</span></dt>.*?' \\\n",
        "          r'<dd class=\"spec__value\">([^<]+)</dd>.*?' \\\n",
        "          r'<dt class=\"spec__index\"><span class=\"spec__index-inner\">Часы работы</span></dt>.*?' \\\n",
        "          r'<dd class=\"spec__value\">([^<]+)</dd>'\n",
        "\n",
        "matches = re.findall(pattern, html_content, re.DOTALL)\n",
        "\n",
        "\n",
        "with open('output.csv', 'w', newline='', encoding='utf-8') as csvfile:\n",
        "    writer = csv.writer(csvfile)\n",
        "\n",
        "    writer.writerow(['Наименование', 'Адрес', 'Телефон', 'Часы рааботы'])\n",
        "    writer.writerows(matches)\n"
      ],
      "metadata": {
        "id": "wiB2g4qArwaB"
      },
      "execution_count": null,
      "outputs": []
    }
  ]
}